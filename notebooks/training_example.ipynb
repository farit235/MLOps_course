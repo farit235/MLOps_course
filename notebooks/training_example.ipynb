{
 "cells": [
  {
   "cell_type": "code",
   "execution_count": 1,
   "id": "323109c5-d220-49ab-8ee6-748c0d4e7171",
   "metadata": {
    "tags": []
   },
   "outputs": [],
   "source": [
    "import sys\n",
    "sys.path.append('../src')\n",
    "\n",
    "from data.load_dataset import load_dataset"
   ]
  },
  {
   "cell_type": "code",
   "execution_count": 2,
   "id": "8fce9d5f-f80d-4b98-99d9-44fa47f4a77f",
   "metadata": {
    "tags": []
   },
   "outputs": [],
   "source": [
    "train, test = load_dataset()"
   ]
  },
  {
   "cell_type": "code",
   "execution_count": 3,
   "id": "8deb31cb-0399-48d4-be19-956fbf7b79e6",
   "metadata": {
    "tags": []
   },
   "outputs": [
    {
     "data": {
      "text/plain": [
       "28815"
      ]
     },
     "execution_count": 3,
     "metadata": {},
     "output_type": "execute_result"
    }
   ],
   "source": [
    "len(train)"
   ]
  },
  {
   "cell_type": "code",
   "execution_count": 4,
   "id": "9a3c273e-1b77-43e6-9c30-14aeb66da39f",
   "metadata": {
    "tags": []
   },
   "outputs": [
    {
     "data": {
      "text/plain": [
       "['LaMini-LM: A Diverse Herd of Distilled Models from Large-Scale Instructions Minghao Wu1,2Abdul Waheed1Chiyu Zhang1,3Muhammad Abdul-Mageed1,3Alham Fikri Aji1 1Mohamed bin Zayed University of Artificial Intelligence 2Monash University3The University of British Columbia {minghao.wu,abdul.waheed,chiyu.zhang,muhammad.mageed,alham.fikri}@mbzuai.ac.ae Abstract Large language models (LLMs) with instruc- tion finetuning demonstrate superior genera- tive capabilities.',\n",
       " 'To alleviate this issue, we explore distilling knowledge from instruction- tuned LLMs to much smaller ones.',\n",
       " 'To this end, we carefully develop a large set of 2.58M in- structions based on both existing and newly- generated instructions.',\n",
       " 'In addition to being sizeable, we design our instructions to cover a broad set of topics to ensure.',\n",
       " 'A thorough in- vestigation of our instruction data demonstrate their diversity , and we generate responses for these instructions using gpt-3.5-turbo .',\n",
       " 'We then exploit the instructions to tune a host of models, dubbed LaMini-LM, of varying sizes, both from the encoder-decoder as well as the decoder-only families.',\n",
       " 'We evaluate our models both automatically (on 15 differ- ent NLP benchmarks) and manually.',\n",
       " 'Results show that our proposed LaMini-LM are on par with competitive baselines while being nearly 10smaller in size.1 1 Introduction Large language models (LLMs) with instruction tuning are capable of generating remarkable out- puts for a wide range of use cases (Ouyang et al., 2022;',\n",
       " 'However, these mod- els usually have billions of parameters, which re- quire massive computational resources for both training and inference (Brown et al., 2020;',\n",
       " 'Kaplan et al. (2020) suggest that the performance of LLMs scales proportion- ally with model and dataset size.']"
      ]
     },
     "execution_count": 4,
     "metadata": {},
     "output_type": "execute_result"
    }
   ],
   "source": [
    "train[:10]"
   ]
  },
  {
   "cell_type": "code",
   "execution_count": 5,
   "id": "7c2129ec-4926-4f79-9e4b-3571fd3d2bd1",
   "metadata": {
    "tags": []
   },
   "outputs": [
    {
     "name": "stderr",
     "output_type": "stream",
     "text": [
      "/Users/elizaveta/opt/anaconda3/envs/mlops_mask3.8/lib/python3.8/site-packages/tqdm/auto.py:21: TqdmWarning: IProgress not found. Please update jupyter and ipywidgets. See https://ipywidgets.readthedocs.io/en/stable/user_install.html\n",
      "  from .autonotebook import tqdm as notebook_tqdm\n"
     ]
    }
   ],
   "source": [
    "from models.finetune_mlm.expand_vocab import get_common_unknown_words, get_initional_model_and_tokenizer\n"
   ]
  },
  {
   "cell_type": "code",
   "execution_count": 6,
   "id": "507e31cc-cb9f-402a-8b69-9f4f2f0b7c9c",
   "metadata": {
    "tags": []
   },
   "outputs": [],
   "source": [
    "from transformers import BertTokenizer\n",
    "from constants import SOURCE_BERT"
   ]
  },
  {
   "cell_type": "code",
   "execution_count": null,
   "id": "b86226f8-12f2-4d5a-bf99-05b18fac8ff4",
   "metadata": {
    "tags": []
   },
   "outputs": [],
   "source": [
    "tokenizer = BertTokenizer.from_pretrained(SOURCE_BERT)"
   ]
  },
  {
   "cell_type": "code",
   "execution_count": null,
   "id": "f0c86f60-f526-4fd6-9853-38f1355d9e2a",
   "metadata": {
    "tags": []
   },
   "outputs": [],
   "source": [
    "tokenizer"
   ]
  },
  {
   "cell_type": "code",
   "execution_count": null,
   "id": "7c374bf3-4a0d-46e5-b5da-4cb3019c10e7",
   "metadata": {
    "tags": []
   },
   "outputs": [],
   "source": [
    "commom_unknown_words = get_common_unknown_words(tokenizer, train, 150)"
   ]
  },
  {
   "cell_type": "code",
   "execution_count": null,
   "id": "0766ca92-5f13-4050-8eb1-94c7dfcef934",
   "metadata": {
    "tags": []
   },
   "outputs": [],
   "source": [
    "commom_unknown_words = ['nlp',\n",
    " 'github',\n",
    " 'chatgpt',\n",
    " 'gpt-3',\n",
    " 'bleu',\n",
    " 'prompts',\n",
    " 'coreference',\n",
    " 'few-shot',\n",
    " 'pre-trained',\n",
    " 'tokenization',\n",
    " 'pre-training',\n",
    " 'state-of-the-art',\n",
    " 'adversarial',\n",
    " 'mentions',\n",
    " 'annotators',\n",
    " 'multilingual',\n",
    " 'captioning',\n",
    " 'bardbl']"
   ]
  },
  {
   "cell_type": "code",
   "execution_count": null,
   "id": "2ee37cea-5bac-4dbd-8f1d-3a7c07183b9b",
   "metadata": {
    "tags": []
   },
   "outputs": [],
   "source": [
    "commom_unknown_words"
   ]
  },
  {
   "cell_type": "code",
   "execution_count": null,
   "id": "03b4c6e9-8a70-4525-a033-3a31f1927385",
   "metadata": {
    "tags": []
   },
   "outputs": [],
   "source": [
    "get_initional_model_and_tokenizer(\n",
    "    SOURCE_BERT,\n",
    "    \"../models/initional\",\n",
    "    commom_unknown_words\n",
    ")"
   ]
  },
  {
   "cell_type": "code",
   "execution_count": null,
   "id": "15b72393-4828-4761-b583-f9c29e5935ef",
   "metadata": {
    "tags": []
   },
   "outputs": [],
   "source": [
    "!ls ../models/initional"
   ]
  },
  {
   "cell_type": "raw",
   "id": "94804df6-efca-498f-adb3-73d94f3247ef",
   "metadata": {
    "tags": []
   },
   "source": [
    "from models.finetune_mlm.expand_vocab import get_embedding_weights"
   ]
  },
  {
   "cell_type": "code",
   "execution_count": 7,
   "id": "52867096-3784-4664-b124-6b2962ec26d8",
   "metadata": {
    "tags": []
   },
   "outputs": [],
   "source": [
    "from models.finetune_mlm.finetune import finetune"
   ]
  },
  {
   "cell_type": "code",
   "execution_count": 8,
   "id": "6488788a-682a-4543-93a9-920d91bc96c1",
   "metadata": {
    "tags": []
   },
   "outputs": [
    {
     "name": "stderr",
     "output_type": "stream",
     "text": [
      "Some weights of BertForMaskedLM were not initialized from the model checkpoint at ../models/initional and are newly initialized: ['cls.predictions.transform.LayerNorm.weight', 'cls.predictions.transform.dense.bias', 'cls.predictions.bias', 'cls.predictions.transform.LayerNorm.bias', 'cls.predictions.transform.dense.weight']\n",
      "You should probably TRAIN this model on a down-stream task to be able to use it for predictions and inference.\n",
      "Some weights of BertForMaskedLM were not initialized from the model checkpoint at ../models/initional and are newly initialized because the shapes did not match:\n",
      "- embeddings.word_embeddings.weight: found shape torch.Size([30540, 128]) in the checkpoint and torch.Size([30539, 128]) in the model instantiated\n",
      "You should probably TRAIN this model on a down-stream task to be able to use it for predictions and inference.\n",
      "100%|███████████████████████████████████████████████████████████████████████████████████████████████████████████████████████████████████████| 2/2 [00:00<00:00, 22.24it/s]\n",
      "100%|███████████████████████████████████████████████████████████████████████████████████████████████████████████████████████████████████████| 4/4 [00:21<00:00,  5.45s/it]\n"
     ]
    }
   ],
   "source": [
    "finetune(\n",
    "     \"../models/initional\",\n",
    "    \"../models/finetuned\",\n",
    "    train[:100],\n",
    "    num_epochs=2\n",
    ")"
   ]
  },
  {
   "cell_type": "code",
   "execution_count": 9,
   "id": "300b00cf-78dd-4132-b896-33561771fde5",
   "metadata": {
    "tags": []
   },
   "outputs": [
    {
     "name": "stdout",
     "output_type": "stream",
     "text": [
      "config.json            generation_config.json pytorch_model.bin\n"
     ]
    }
   ],
   "source": [
    "!ls ../models/finetuned"
   ]
  },
  {
   "cell_type": "code",
   "execution_count": null,
   "id": "fb652cd4-1231-4a27-adfa-562d204e82b8",
   "metadata": {},
   "outputs": [],
   "source": []
  }
 ],
 "metadata": {
  "kernelspec": {
   "display_name": "mlops38",
   "language": "python",
   "name": "mlops38"
  },
  "language_info": {
   "codemirror_mode": {
    "name": "ipython",
    "version": 3
   },
   "file_extension": ".py",
   "mimetype": "text/x-python",
   "name": "python",
   "nbconvert_exporter": "python",
   "pygments_lexer": "ipython3",
   "version": "3.8.16"
  }
 },
 "nbformat": 4,
 "nbformat_minor": 5
}
